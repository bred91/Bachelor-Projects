{
  "nbformat": 4,
  "nbformat_minor": 0,
  "metadata": {
    "kernelspec": {
      "display_name": "Python 3",
      "language": "python",
      "name": "python3"
    },
    "language_info": {
      "codemirror_mode": {
        "name": "ipython",
        "version": 3
      },
      "file_extension": ".py",
      "mimetype": "text/x-python",
      "name": "python",
      "nbconvert_exporter": "python",
      "pygments_lexer": "ipython3",
      "version": "3.8.2"
    },
    "colab": {
      "name": "Tweettalyze.ipynb",
      "provenance": [],
      "collapsed_sections": []
    }
  },
  "cells": [
    {
      "cell_type": "markdown",
      "metadata": {
        "id": "hh4GodaH9TXN",
        "colab_type": "text"
      },
      "source": [
        "**Tweettalyze** is an application that, given in input one or more Tweets, returns their Sentiment Analysis, as well as a series of graphs and useful information about them.\n",
        "\n",
        "This analysis offers a set of data that have multiple fields of interest. \n",
        "For example, to provide information about the perception of the trendiest topics, about prominent personalities (stars, politicians, etc.), or to help define the Brand Awareness of a given brand.\n",
        "\n",
        "\n",
        "*R. Pane, R.Mele, A. Moggio.*"
      ]
    },
    {
      "cell_type": "markdown",
      "metadata": {
        "id": "hx-rUoo1-JRS",
        "colab_type": "text"
      },
      "source": [
        "%%%%%%%%%%%%%%%%%%%%%%%%%%%%%%%%%%%%%%%%%%%%%%%%%%%%%%%%%%%%%%%%%%%%%%%%%%%%%%%%%%%%%%\n"
      ]
    },
    {
      "cell_type": "markdown",
      "metadata": {
        "id": "Jdqi0x8H8rB-",
        "colab_type": "text"
      },
      "source": [
        "Import Libreries"
      ]
    },
    {
      "cell_type": "code",
      "metadata": {
        "colab_type": "code",
        "id": "GtErWGZtW5qu",
        "colab": {}
      },
      "source": [
        "#pip install nltk\n",
        "#pip install matplotlib\n",
        "#pip install wordcloud\n",
        "#pip install PIL        \n",
        "#pip install colorama\n",
        "#pip install termcolor"
      ],
      "execution_count": 0,
      "outputs": []
    },
    {
      "cell_type": "code",
      "metadata": {
        "id": "z8GHpwUd8rB_",
        "colab_type": "code",
        "colab": {}
      },
      "source": [
        "from colorama import Fore, Style\n",
        "from termcolor import colored\n",
        "from nltk.tokenize import word_tokenize\n",
        "from nltk.stem.wordnet import WordNetLemmatizer\n",
        "from nltk.tag import pos_tag\n",
        "from nltk.corpus import twitter_samples, stopwords\n",
        "from nltk import FreqDist, classify, NaiveBayesClassifier\n",
        "from nltk.chat.util import Chat, reflections  # Chatbot\n",
        "from wordcloud import WordCloud, STOPWORDS, ImageColorGenerator\n",
        "from PIL import Image\n",
        "\n",
        "import numpy\n",
        "import nltk\n",
        "#nltk.download('all')\n",
        "import re, string, random\n",
        "import matplotlib.pyplot as plt"
      ],
      "execution_count": 0,
      "outputs": []
    },
    {
      "cell_type": "markdown",
      "metadata": {
        "id": "xzzXccUg8rCE",
        "colab_type": "text"
      },
      "source": [
        "Pre-Processing Text (Removing 'Stop Words', Lowering, Punctuation, Stemming , Lemmatization)"
      ]
    },
    {
      "cell_type": "code",
      "metadata": {
        "id": "SyeFA7kA8rCE",
        "colab_type": "code",
        "colab": {}
      },
      "source": [
        "def pre_process(tweet_tokens, stop_words = ()):    \n",
        "\n",
        "    clean_tok = []\n",
        "    \n",
        "    # Pos-Tag \n",
        "    for token, tag in pos_tag(tweet_tokens):\n",
        "        token = re.sub('http[s]?://(?:[a-zA-Z]|[0-9]|[$-_@.&+#]|[!*\\(\\),]|'\\\n",
        "                       '(?:%[0-9a-fA-F][0-9a-fA-F]))+','', token)\n",
        "        token = re.sub(\"(@[A-Za-z0-9_]+)\",\"\", token)      \n",
        "        # sub replace the special characters with \"\" <-- a blank space\n",
        "        \n",
        "        # We generate more generic Tags \n",
        "        if tag.startswith(\"NN\"):\n",
        "            pos = 'n'                 # n = Nouns\n",
        "        elif tag.startswith('VB'):\n",
        "            pos = 'v'                 # v = Verbs\n",
        "        else:\n",
        "            pos = 'a'                 # a = Adjectives and Adverbs\n",
        "\n",
        "        # Lemmatization\n",
        "        lemmer = WordNetLemmatizer()           # WordNet is a lexical database for the English Language\n",
        "        token = lemmer.lemmatize(token, pos)   # Lemmatize\n",
        "        \n",
        "        # we remove the punctuation and lower the characters of the words\n",
        "        if len(token) > 0 and token not in string.punctuation and token.lower() not in stop_words:\n",
        "            clean_tok.append(token.lower())\n",
        "    return clean_tok\n"
      ],
      "execution_count": 0,
      "outputs": []
    },
    {
      "cell_type": "markdown",
      "metadata": {
        "id": "XvwH0SsxreQ3",
        "colab_type": "text"
      },
      "source": [
        "This is a generator function that takes a list of tweets as an argument to provide a list of words in all of the tweet tokens joined"
      ]
    },
    {
      "cell_type": "code",
      "metadata": {
        "id": "Ee6yB3kN8rCI",
        "colab_type": "code",
        "colab": {}
      },
      "source": [
        "def get_all_words(cleaned_tokens_list):\n",
        "    for tokens in cleaned_tokens_list:\n",
        "        for token in tokens:\n",
        "            yield token         # return a generator"
      ],
      "execution_count": 0,
      "outputs": []
    },
    {
      "cell_type": "markdown",
      "metadata": {
        "id": "ZHtCvmrhrKbq",
        "colab_type": "text"
      },
      "source": [
        "Convert the tweets from a list of cleaned tokens to dictionaries with keys as the tokens and True as values"
      ]
    },
    {
      "cell_type": "code",
      "metadata": {
        "id": "YqBgg1YL8rCL",
        "colab_type": "code",
        "colab": {}
      },
      "source": [
        "def get_tweets_for_model(cleaned_tokens_list):\n",
        "    for tweet_tokens in cleaned_tokens_list:\n",
        "        yield dict([token, True] for token in tweet_tokens)\n"
      ],
      "execution_count": 0,
      "outputs": []
    },
    {
      "cell_type": "markdown",
      "metadata": {
        "id": "d0DeynJrpnId",
        "colab_type": "text"
      },
      "source": [
        "This is the Core of our Sentiment Analysis with Machine Learning"
      ]
    },
    {
      "cell_type": "code",
      "metadata": {
        "id": "_oyg8HBU8rCP",
        "colab_type": "code",
        "outputId": "22b14af4-e450-4578-ca74-1bc77857f941",
        "colab": {
          "base_uri": "https://localhost:8080/",
          "height": 974
        }
      },
      "source": [
        "if __name__ == \"__main__\":\n",
        "    \n",
        "    # We import three datasets containing various tweets to train and test from NLTK\n",
        "    positive_tweets = twitter_samples.strings('positive_tweets.json')  # 5k positive tweets\n",
        "    negative_tweets = twitter_samples.strings('negative_tweets.json')  # 5k negative tweets\n",
        "    text = twitter_samples.strings('tweets.20150430-223406.json')      # 20k tweets with no sentiments\n",
        "    tweet_tokens = twitter_samples.tokenized('positive_tweets.json')[0]\n",
        "\n",
        "    # Remove 'Stop Words'\n",
        "    stop_words = stopwords.words('english')\n",
        "    # Tokenized Tweets\n",
        "    positive_tweet_tokens = twitter_samples.tokenized('positive_tweets.json')\n",
        "    negative_tweet_tokens = twitter_samples.tokenized('negative_tweets.json')\n",
        "\n",
        "    # Create two lists, one with the pre-processed Positive Tweets and the other with the negative ones\n",
        "    positive_cleaned_tokens_list = []\n",
        "    negative_cleaned_tokens_list = []\n",
        "\n",
        "    for tokens in positive_tweet_tokens:\n",
        "        positive_cleaned_tokens_list.append(pre_process(tokens, stop_words))\n",
        "\n",
        "    for tokens in negative_tweet_tokens:\n",
        "        negative_cleaned_tokens_list.append(pre_process(tokens, stop_words))\n",
        "\n",
        "    # This is a generator function that takes a list of tweets as an argument to provide a list of words in all of the tweet tokens joined\n",
        "    all_pos_words = get_all_words(positive_cleaned_tokens_list)\n",
        "    all_neg_words = get_all_words(negative_cleaned_tokens_list)\n",
        "\n",
        "    # We calculate the frequency with which Positive words appear, printing the 10 most common ones\n",
        "    pfreq = FreqDist(all_pos_words)\n",
        "    print()\n",
        "    print(colored(pfreq.most_common(10),'green'))     # Positive\n",
        "    print()\n",
        "\n",
        "    # We calculate the frequency with which Negative words appear, printing the 10 most common ones\n",
        "    nfreq = FreqDist(all_neg_words)\n",
        "    print(colored(nfreq.most_common(10),'red'))     # Negative\n",
        "    print()\n",
        "\n",
        "    freq = nfreq + pfreq \n",
        "\n",
        "    # Converting Tokens to Dictionary\n",
        "    positive_tokens_for_model = get_tweets_for_model(positive_cleaned_tokens_list)  \n",
        "    negative_tokens_for_model = get_tweets_for_model(negative_cleaned_tokens_list)\n",
        "\n",
        "    # We create the Model for the training and test. For each phase we build a dataset formed by positive and negative shuffled data \n",
        "    positive_data = [(tweet_dict, \"Positive  :)\")           # This code attaches a Positive label to each tweet\n",
        "                         for tweet_dict in positive_tokens_for_model]\n",
        "\n",
        "    negative_data = [(tweet_dict, \"Negative :(\")            # This code attaches a Negative label to each tweet\n",
        "                         for tweet_dict in negative_tokens_for_model]\n",
        "\n",
        "    dataset = positive_data + negative_data\n",
        "    random.shuffle(dataset)       # it's to avoid Bias\n",
        "\n",
        "    # The purpose of the first part is to build the model; the next part tests the performance of the model.\n",
        "    train_data = dataset[:7500]     \n",
        "    test_data = dataset[7500:]\n",
        "\n",
        "    # For the Classification we used a NaiveBayes Classifier\n",
        "    classifier = NaiveBayesClassifier.train(train_data)\n",
        "    # Naive Bayes classifiers are paramaterized by two probability distributions:\n",
        "    #  - P(label) gives the probability that an input will receive each label, given no information about the input's features.\n",
        "    #  - P(fname=fval|label) gives the probability that a given feature (fname) will receive a given value (fval), given that the label (label).\n",
        "\n",
        "    # If the classifier encounters an input with a feature that has never been seen with any label, then rather than assigning a\n",
        "    # probability of 0 to all labels, it will ignore that feature.\n",
        "\n",
        "    \n",
        "    print()\n",
        "    print(\"Accuracy is:\", colored(classify.accuracy(classifier, test_data), 'red'))\n",
        "    print()\n",
        "    print(classifier.show_most_informative_features(10))\n",
        "    print()\n",
        "    freq.plot(10,cumulative=False)\n",
        "    plt.show()\n",
        "    \n",
        "    # We tested the Model on some famous books too\n",
        "    # do = open(\"Dorian.txt\",\"r\")     # Picture of Dorian Gray\n",
        "    # ad = open(\"advs.txt\",\"r\")       # Collection  of Sherlock Holmes\n",
        "    # al = open(\"alice.txt\",\"r\")      # Alice in Wonderland\n",
        "    # sh = open(\"shake.txt\",\"r\")      # All's Well That Ends Well\n",
        "    # print(colored('hello', 'red'), colored('world', 'green'))\n",
        "    # print(f'This is {Fore.GREEN} color {Style.RESET_ALL}!')\n",
        "\n",
        "    # Print a WordCloud of the 100 most common words with the shape of the Twitter Logo\n",
        "    freq100 = freq.most_common(100)\n",
        "    strfreq100 = str(freq100)\n",
        "    strfreq100 = re.sub(\"'\",'', strfreq100)\n",
        "\n",
        "    char_mask = numpy.array(Image.open(\"/content/white.jpg\"))    \n",
        "    image_colors = ImageColorGenerator(char_mask)\n",
        "    wc = WordCloud(width = 800, height = 800,background_color=\"black\", max_words=200, mask=char_mask, random_state=1).generate(strfreq100) \n",
        "    # to recolour words in the image\n",
        "    rec = wc.recolor(color_func=image_colors)\n",
        "    plt.imshow(rec)\n",
        "    plt.axis(\"off\") \n",
        "    plt.tight_layout(pad = 0) \n",
        "  \n",
        "    plt.show()"
      ],
      "execution_count": 46,
      "outputs": [
        {
          "output_type": "stream",
          "text": [
            "\n",
            "\u001b[32m[(':)', 3691), (':-)', 701), (':d', 658), ('thanks', 388), ('follow', 357), ('love', 333), ('...', 290), ('good', 283), ('get', 263), ('thank', 253)]\u001b[0m\n",
            "\n",
            "\u001b[31m[(':(', 4585), (':-(', 501), (\"i'm\", 343), ('...', 332), ('get', 325), ('miss', 291), ('go', 275), ('please', 275), ('want', 246), ('like', 218)]\u001b[0m\n",
            "\n",
            "\n",
            "Accuracy is: \u001b[31m0.9964\u001b[0m\n",
            "\n",
            "Most Informative Features\n",
            "                      :( = True           Negati : Positi =   2236.2 : 1.0\n",
            "                      :) = True           Positi : Negati =   1062.6 : 1.0\n",
            "                follower = True           Positi : Negati =     38.1 : 1.0\n",
            "                 welcome = True           Positi : Negati =     21.3 : 1.0\n",
            "                     bam = True           Positi : Negati =     20.5 : 1.0\n",
            "                     sad = True           Negati : Positi =     19.2 : 1.0\n",
            "                      aw = True           Negati : Positi =     16.7 : 1.0\n",
            "                     ugh = True           Negati : Positi =     14.7 : 1.0\n",
            "              appreciate = True           Positi : Negati =     14.7 : 1.0\n",
            "                  arrive = True           Positi : Negati =     14.1 : 1.0\n",
            "None\n",
            "\n"
          ],
          "name": "stdout"
        },
        {
          "output_type": "display_data",
          "data": {
            "image/png": "[encoded data removed]",
            "text/plain": [
              "<Figure size 432x288 with 1 Axes>"
            ]
          },
          "metadata": {
            "tags": [],
            "needs_background": "light"
          }
        },
        {
          "output_type": "display_data",
          "data": {
            "image/png": "[encoded data removed]",
            "text/plain": [
              "<Figure size 432x288 with 1 Axes>"
            ]
          },
          "metadata": {
            "tags": [],
            "needs_background": "light"
          }
        }
      ]
    },
    {
      "cell_type": "markdown",
      "metadata": {
        "id": "GqmVYgK_XtGe",
        "colab_type": "text"
      },
      "source": [
        "The Chatbot code"
      ]
    },
    {
      "cell_type": "code",
      "metadata": {
        "id": "FMw8-WHr8rCU",
        "colab_type": "code",
        "outputId": "00a61b15-e9aa-4d7b-9fc0-698b39f1bf3f",
        "colab": {
          "base_uri": "https://localhost:8080/",
          "height": 826
        }
      },
      "source": [
        "exit_codes=['bye', 'exit', 'see you' ,'ciao']\n",
        "flag=True\n",
        "res_lis = []\n",
        "\n",
        "print(\"Tweettalyze analyzes your Tweets and makes a Sentimental Analysis of them\")\n",
        "print()\n",
        "\n",
        "while(flag==True):\n",
        "    custom_tweet=input(\"Insert the tweet that you want to analyze:  >>  \")\n",
        "    print()\n",
        "    if  custom_tweet.lower() not in exit_codes:\n",
        "        # We process the tweet. Then we print it(processed) with the result of the classifier(i.e. our Sentment Analysis)\n",
        "        custom_tokens = pre_process(word_tokenize(custom_tweet))              # (Removing 'Stop Words', Lowering, Punctuation, Stemming , Lemmatization)\n",
        "        print(custom_tokens,'\\n','\\n', classifier.classify(dict([token, True] for token in custom_tokens))) \n",
        "        res_lis.append(classifier.classify(dict([token, True] for token in custom_tokens)))   # it saves the output\n",
        "        # It asks if the user wants to analyze an other Tweet\n",
        "        print(\"\\n\\n Do you want to analyze a new tweet? (yes o no)\")\n",
        "        print()\n",
        "        custom_tweet=input()\n",
        "        print()\n",
        "        \n",
        "        # This is the algorithm that manages the exit point\n",
        "    if custom_tweet.lower() ==\"no\" or custom_tweet.lower() in exit_codes:\n",
        "        print(\"Hi, it was a pleasure chatting with you!\")\n",
        "        flag=False"
      ],
      "execution_count": 49,
      "outputs": [
        {
          "output_type": "stream",
          "text": [
            "Tweettalyze analyzes your Tweets and makes a Sentimental Analysis of them\n",
            "\n",
            "Insert the tweet that you want to analyze:  >>  I #hate @You!!! ò_ò\n",
            "\n",
            "['i', 'hate', 'you', 'ò_ò'] \n",
            " \n",
            " Negative :(\n",
            "\n",
            "\n",
            " Do you want to analyze a new tweet? (yes o no)\n",
            "\n",
            "yes\n",
            "\n",
            "Insert the tweet that you want to analyze:  >>  I like to listen to music!\n",
            "\n",
            "['i', 'like', 'to', 'listen', 'to', 'music'] \n",
            " \n",
            " Positive  :)\n",
            "\n",
            "\n",
            " Do you want to analyze a new tweet? (yes o no)\n",
            "\n",
            "yes\n",
            "\n",
            "Insert the tweet that you want to analyze:  >>  we need a #change in the way we look at things\n",
            "\n",
            "['we', 'need', 'a', 'change', 'in', 'the', 'way', 'we', 'look', 'at', 'thing'] \n",
            " \n",
            " Positive  :)\n",
            "\n",
            "\n",
            " Do you want to analyze a new tweet? (yes o no)\n",
            "\n",
            "yes\n",
            "\n",
            "Insert the tweet that you want to analyze:  >>  Those who find beautiful meanings In  beautiful things are the cultivated. For  these there Is hope.\n",
            "\n",
            "['those', 'who', 'find', 'beautiful', 'meaning', 'in', 'beautiful', 'thing', 'be', 'the', 'cultivated', 'for', 'these', 'there', 'is', 'hope'] \n",
            " \n",
            " Positive  :)\n",
            "\n",
            "\n",
            " Do you want to analyze a new tweet? (yes o no)\n",
            "\n",
            "no\n",
            "\n",
            "Hi, it was a pleasure chatting with you!\n"
          ],
          "name": "stdout"
        }
      ]
    },
    {
      "cell_type": "markdown",
      "metadata": {
        "id": "5v4l98QJXelJ",
        "colab_type": "text"
      },
      "source": [
        "Showing what is in 'res_lis'"
      ]
    },
    {
      "cell_type": "code",
      "metadata": {
        "id": "qpnH2c4s8rCY",
        "colab_type": "code",
        "outputId": "210fe302-b77f-490e-c466-d80338745709",
        "colab": {
          "base_uri": "https://localhost:8080/",
          "height": 34
        }
      },
      "source": [
        "res_lis"
      ],
      "execution_count": 50,
      "outputs": [
        {
          "output_type": "execute_result",
          "data": {
            "text/plain": [
              "['Negative :(', 'Positive  :)', 'Positive  :)', 'Positive  :)']"
            ]
          },
          "metadata": {
            "tags": []
          },
          "execution_count": 50
        }
      ]
    },
    {
      "cell_type": "markdown",
      "metadata": {
        "id": "MI_64o-UXDwd",
        "colab_type": "text"
      },
      "source": [
        "Print a Plot of the occurrences of positive and negative results"
      ]
    },
    {
      "cell_type": "code",
      "metadata": {
        "id": "8sG4uOzQ8rCc",
        "colab_type": "code",
        "outputId": "2132e406-9b99-4d2c-e8ee-9d24df93d769",
        "colab": {
          "base_uri": "https://localhost:8080/",
          "height": 279
        }
      },
      "source": [
        "import matplotlib.pyplot as plt\n",
        "import numpy as np\n",
        "%matplotlib inline\n",
        "x = res_lis \n",
        "\n",
        "plt.hist(x, density=False)  # `density=False` would make counts\n",
        "plt.ylabel('Occorrenze')\n",
        "plt.xlabel('Data');"
      ],
      "execution_count": 51,
      "outputs": [
        {
          "output_type": "display_data",
          "data": {
            "image/png": "[encoded data removed]",
            "text/plain": [
              "<Figure size 432x288 with 1 Axes>"
            ]
          },
          "metadata": {
            "tags": [],
            "needs_background": "light"
          }
        }
      ]
    },
    {
      "cell_type": "code",
      "metadata": {
        "id": "_QRiwxg14cEX",
        "colab_type": "code",
        "colab": {}
      },
      "source": [
        "#from google.colab import drive\n",
        "#drive.mount('/content/drive')"
      ],
      "execution_count": 0,
      "outputs": []
    }
  ]
}