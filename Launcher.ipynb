{
  "nbformat": 4,
  "nbformat_minor": 0,
  "metadata": {
    "colab": {
      "provenance": [],
      "gpuType": "T4",
      "authorship_tag": "ABX9TyPjByaJiysojNEI4yUVjn3+"
    },
    "kernelspec": {
      "name": "python3",
      "display_name": "Python 3"
    },
    "language_info": {
      "name": "python"
    },
    "accelerator": "GPU"
  },
  "cells": [
    {
      "cell_type": "markdown",
      "source": [
        "#Project Launcher"
      ],
      "metadata": {
        "id": "O65EaNA3KWoA"
      }
    },
    {
      "cell_type": "markdown",
      "source": [
        "###Import"
      ],
      "metadata": {
        "id": "7VH1sz0vKD2K"
      }
    },
    {
      "cell_type": "code",
      "source": [
        "!pip install ood-metrics\n",
        "from IPython.display import clear_output\n",
        "clear_output()"
      ],
      "metadata": {
        "id": "CAjEhUFVuOe8"
      },
      "execution_count": 1,
      "outputs": []
    },
    {
      "cell_type": "markdown",
      "source": [
        "###Loading"
      ],
      "metadata": {
        "id": "yA4FrWqrKGpc"
      }
    },
    {
      "cell_type": "code",
      "source": [
        "!git clone \"https://github.com/bred91/HamburgerManager.git\""
      ],
      "metadata": {
        "id": "iJlRtQDiuIlz",
        "colab": {
          "base_uri": "https://localhost:8080/"
        },
        "outputId": "9fb3b708-5906-4868-8b2f-ac87b23f2678"
      },
      "execution_count": 2,
      "outputs": [
        {
          "output_type": "stream",
          "name": "stdout",
          "text": [
            "Cloning into 'HamburgerManager'...\n",
            "remote: Enumerating objects: 98, done.\u001b[K\n",
            "remote: Counting objects: 100% (98/98), done.\u001b[K\n",
            "remote: Compressing objects: 100% (68/68), done.\u001b[K\n",
            "remote: Total 98 (delta 50), reused 69 (delta 29), pack-reused 0\u001b[K\n",
            "Receiving objects: 100% (98/98), 30.64 MiB | 18.19 MiB/s, done.\n",
            "Resolving deltas: 100% (50/50), done.\n"
          ]
        }
      ]
    },
    {
      "cell_type": "code",
      "source": [
        "from google.colab import drive\n",
        "import os\n",
        "import sys\n",
        "\n",
        "if not os.path.isfile('/content/Validation_Dataset.zip'):\n",
        "  !gdown --id 1r2eFANvSlcUjxcerjC8l6dRa0slowMpx\n",
        "  !jar xvf  \"/content/Validation_Dataset.zip\"\n",
        "\n",
        "clear_output()\n",
        "\n",
        "if not os.path.isdir('/content/Validation_Dataset'):\n",
        "  print(\"Dataset doesn't exist\")"
      ],
      "metadata": {
        "id": "70HelDlzFOCI"
      },
      "execution_count": 3,
      "outputs": []
    },
    {
      "cell_type": "code",
      "source": [
        "import sys\n",
        "sys.path.append(\"/content/HamburgerManager/\")\n",
        "import HamburgerManager\n",
        "from HamburgerManager import *"
      ],
      "metadata": {
        "id": "IlywvhixokKf"
      },
      "execution_count": 4,
      "outputs": []
    },
    {
      "cell_type": "markdown",
      "source": [
        "###Evaluation"
      ],
      "metadata": {
        "id": "FU18k_ePKOYY"
      }
    },
    {
      "cell_type": "code",
      "source": [
        "%run /content/HamburgerManager/eval/evalAnomaly.py --method MSP --model BisenetV2 --isColab --input /content/Validation_Dataset/FS_LostFound_full/images --loadDir /content/HamburgerManager/"
      ],
      "metadata": {
        "id": "tTIRDewDoC89"
      },
      "execution_count": null,
      "outputs": []
    },
    {
      "cell_type": "markdown",
      "source": [
        "Temperature Scaling"
      ],
      "metadata": {
        "id": "qe5UreVwGxE0"
      }
    },
    {
      "cell_type": "code",
      "source": [
        "%run /content/HamburgerManager/eval/evalAnomaly.py --method MSP --model BisenetV2 --withT 10.0 --isColab --input /content/Validation_Dataset/FS_LostFound_full/images --loadDir /content/HamburgerManager/trained_models/"
      ],
      "metadata": {
        "id": "aNt2Q2O8fmgO"
      },
      "execution_count": null,
      "outputs": []
    },
    {
      "cell_type": "markdown",
      "source": [
        "###Training"
      ],
      "metadata": {
        "id": "nzz3LaeThU-V"
      }
    },
    {
      "cell_type": "code",
      "source": [
        "!pip install opendatasets --upgrade\n",
        "!pip install segmentation-models-pytorch --upgrade\n",
        "!pip install torchmetrics --upgrade\n",
        "!pip install albumentations --upgrade\n",
        "!pip install loguru --upgrade\n",
        "!pip install tqdm --upgrade\n",
        "clear_output()\n",
        "print(\"Done\")"
      ],
      "metadata": {
        "colab": {
          "base_uri": "https://localhost:8080/"
        },
        "id": "f2BMA-2qazYR",
        "outputId": "5b1784bd-302f-45de-cd07-bc9e0f9bb092"
      },
      "execution_count": null,
      "outputs": [
        {
          "output_type": "stream",
          "name": "stdout",
          "text": [
            "Done\n"
          ]
        }
      ]
    },
    {
      "cell_type": "code",
      "source": [
        "import opendatasets as od\n",
        "dataset_url = 'https://www.kaggle.com/kavithak1388/cityscapes'\n",
        "od.download(dataset_url)"
      ],
      "metadata": {
        "colab": {
          "base_uri": "https://localhost:8080/"
        },
        "id": "XCnqSbUra1Vg",
        "outputId": "f8163d87-502c-4e90-c12d-36d68ad83d44"
      },
      "execution_count": null,
      "outputs": [
        {
          "output_type": "stream",
          "name": "stdout",
          "text": [
            "Please provide your Kaggle credentials to download this dataset. Learn more: http://bit.ly/kaggle-creds\n",
            "Your Kaggle username: raffaelepane\n",
            "Your Kaggle Key: ··········\n",
            "Downloading cityscapes.zip to ./cityscapes\n"
          ]
        },
        {
          "output_type": "stream",
          "name": "stderr",
          "text": [
            "100%|██████████| 11.0G/11.0G [02:14<00:00, 88.3MB/s]\n"
          ]
        },
        {
          "output_type": "stream",
          "name": "stdout",
          "text": [
            "\n"
          ]
        }
      ]
    },
    {
      "cell_type": "code",
      "source": [
        "!git clone \"https://github.com/zh320/realtime-semantic-segmentation-pytorch.git\""
      ],
      "metadata": {
        "colab": {
          "base_uri": "https://localhost:8080/"
        },
        "id": "D_OWqlX-hdYt",
        "outputId": "522ee131-61f0-47d2-a5d7-541ccad55239"
      },
      "execution_count": null,
      "outputs": [
        {
          "output_type": "stream",
          "name": "stdout",
          "text": [
            "Cloning into 'realtime-semantic-segmentation-pytorch'...\n",
            "remote: Enumerating objects: 449, done.\u001b[K\n",
            "remote: Counting objects: 100% (156/156), done.\u001b[K\n",
            "remote: Compressing objects: 100% (88/88), done.\u001b[K\n",
            "remote: Total 449 (delta 85), reused 120 (delta 68), pack-reused 293\u001b[K\n",
            "Receiving objects: 100% (449/449), 1015.67 MiB | 33.45 MiB/s, done.\n",
            "Resolving deltas: 100% (238/238), done.\n"
          ]
        }
      ]
    },
    {
      "cell_type": "code",
      "source": [],
      "metadata": {
        "id": "JaYpa7DpFiY3"
      },
      "execution_count": null,
      "outputs": []
    },
    {
      "cell_type": "code",
      "source": [
        "%run /content/realtime-semantic-segmentation-pytorch/main.py"
      ],
      "metadata": {
        "colab": {
          "base_uri": "https://localhost:8080/"
        },
        "id": "hGNc8KYjmTcC",
        "outputId": "3589d227-3c20-4987-d82b-d02052318b68"
      },
      "execution_count": null,
      "outputs": [
        {
          "output_type": "stream",
          "name": "stderr",
          "text": [
            "[2023-12-31 14:10] [!] Train from scratch\n",
            "[2023-12-31 14:10] \n",
            "\n",
            "\n",
            "######################### Config Informations #########################\n",
            "dataset: cityscapes\n",
            "num_class: 20\n",
            "model: bisenetv2\n",
            "encoder: None\n",
            "decoder: None\n",
            "loss_type: ce\n",
            "optimizer_type: adam\n",
            "lr_policy: cos_warmup\n",
            "total_epoch: 30\n",
            "train_bs: 8\n",
            "val_bs: 10\n",
            "train_num: 2968\n",
            "val_num: 500\n",
            "gpu_num: 1\n",
            "num_workers: 8\n",
            "amp_training: False\n",
            "DDP: False\n",
            "kd_training: False\n",
            "synBN: True\n",
            "use_ema: False\n",
            "use_aux: True\n",
            "#######################################################################\n",
            "\n",
            "\n"
          ]
        },
        {
          "output_type": "stream",
          "name": "stdout",
          "text": [
            "Warning: reduction is None, loss will be summed.\n"
          ]
        },
        {
          "output_type": "stream",
          "name": "stderr",
          "text": [
            "Epoch:0/30    |Loss:7.047    |: 100%|██████████| 371/371 [06:33<00:00,  1.06s/it]\n",
            "Validating:    |: 100%|██████████| 50/50 [01:35<00:00,  1.91s/it]\n",
            "[2023-12-31 14:18]  Epoch0 mIoU: 0.1723    | best mIoU so far: 0.0000\n",
            "\n",
            "Epoch:1/30    |Loss:4.353    |: 100%|██████████| 371/371 [06:17<00:00,  1.02s/it]\n",
            "Validating:    |: 100%|██████████| 50/50 [01:34<00:00,  1.89s/it]\n",
            "[2023-12-31 14:26]  Epoch1 mIoU: 0.1823    | best mIoU so far: 0.1723\n",
            "\n",
            "Epoch:2/30    |Loss:4.375    |: 100%|██████████| 371/371 [06:39<00:00,  1.08s/it]\n",
            "Validating:    |: 100%|██████████| 50/50 [01:43<00:00,  2.07s/it]\n",
            "[2023-12-31 14:34]  Epoch2 mIoU: 0.2387    | best mIoU so far: 0.1823\n",
            "\n",
            "Epoch:3/30    |Loss:3.443    |: 100%|██████████| 371/371 [06:30<00:00,  1.05s/it]\n",
            "Validating:    |: 100%|██████████| 50/50 [01:37<00:00,  1.94s/it]\n",
            "[2023-12-31 14:42]  Epoch3 mIoU: 0.2469    | best mIoU so far: 0.2387\n",
            "\n",
            "Epoch:4/30    |Loss:3.257    |: 100%|██████████| 371/371 [06:25<00:00,  1.04s/it]\n",
            "Validating:    |: 100%|██████████| 50/50 [01:40<00:00,  2.01s/it]\n",
            "[2023-12-31 14:50]  Epoch4 mIoU: 0.2605    | best mIoU so far: 0.2469\n",
            "\n",
            "Epoch:5/30    |Loss:3.874    |: 100%|██████████| 371/371 [06:18<00:00,  1.02s/it]\n",
            "Validating:    |: 100%|██████████| 50/50 [01:38<00:00,  1.97s/it]\n",
            "[2023-12-31 14:58]  Epoch5 mIoU: 0.2689    | best mIoU so far: 0.2605\n",
            "\n",
            "Epoch:6/30    |Loss:5.126    |: 100%|██████████| 371/371 [06:24<00:00,  1.04s/it]\n",
            "Validating:    |: 100%|██████████| 50/50 [01:37<00:00,  1.96s/it]\n",
            "[2023-12-31 15:06]  Epoch6 mIoU: 0.2833    | best mIoU so far: 0.2689\n",
            "\n",
            "Epoch:7/30    |Loss:3.217    |: 100%|██████████| 371/371 [06:35<00:00,  1.07s/it]\n",
            "Validating:    |: 100%|██████████| 50/50 [01:40<00:00,  2.01s/it]\n",
            "[2023-12-31 15:14]  Epoch7 mIoU: 0.3277    | best mIoU so far: 0.2833\n",
            "\n",
            "Epoch:8/30    |Loss:2.457    |: 100%|██████████| 371/371 [06:50<00:00,  1.11s/it]\n",
            "Validating:    |: 100%|██████████| 50/50 [01:40<00:00,  2.02s/it]\n",
            "[2023-12-31 15:23]  Epoch8 mIoU: 0.2946    | best mIoU so far: 0.3277\n",
            "\n",
            "Epoch:9/30    |Loss:3.418    |: 100%|██████████| 371/371 [06:44<00:00,  1.09s/it]\n",
            "Validating:    |: 100%|██████████| 50/50 [01:42<00:00,  2.04s/it]\n",
            "[2023-12-31 15:31]  Epoch9 mIoU: 0.3682    | best mIoU so far: 0.3277\n",
            "\n",
            "Epoch:10/30    |Loss:3.015    |: 100%|██████████| 371/371 [06:49<00:00,  1.10s/it]\n",
            "Validating:    |: 100%|██████████| 50/50 [01:41<00:00,  2.02s/it]\n",
            "[2023-12-31 15:40]  Epoch10 mIoU: 0.3611    | best mIoU so far: 0.3682\n",
            "\n",
            "Epoch:11/30    |Loss:5.436    |: 100%|██████████| 371/371 [06:46<00:00,  1.10s/it]\n",
            "Validating:    |: 100%|██████████| 50/50 [01:41<00:00,  2.04s/it]\n",
            "[2023-12-31 15:48]  Epoch11 mIoU: 0.3493    | best mIoU so far: 0.3682\n",
            "\n",
            "Epoch:12/30    |Loss:3.427    |: 100%|██████████| 371/371 [06:43<00:00,  1.09s/it]\n",
            "Validating:    |: 100%|██████████| 50/50 [01:41<00:00,  2.03s/it]\n",
            "[2023-12-31 15:57]  Epoch12 mIoU: 0.3381    | best mIoU so far: 0.3682\n",
            "\n",
            "Epoch:13/30    |Loss:3.185    |: 100%|██████████| 371/371 [06:43<00:00,  1.09s/it]\n",
            "Validating:    |: 100%|██████████| 50/50 [01:44<00:00,  2.08s/it]\n",
            "[2023-12-31 16:05]  Epoch13 mIoU: 0.3840    | best mIoU so far: 0.3682\n",
            "\n",
            "Epoch:14/30    |Loss:3.034    |: 100%|██████████| 371/371 [06:46<00:00,  1.09s/it]\n",
            "Validating:    |: 100%|██████████| 50/50 [01:41<00:00,  2.04s/it]\n",
            "[2023-12-31 16:14]  Epoch14 mIoU: 0.4083    | best mIoU so far: 0.3840\n",
            "\n",
            "Epoch:15/30    |Loss:6.421    |: 100%|██████████| 371/371 [06:50<00:00,  1.11s/it]\n",
            "Validating:    |: 100%|██████████| 50/50 [01:40<00:00,  2.01s/it]\n",
            "[2023-12-31 16:22]  Epoch15 mIoU: 0.4031    | best mIoU so far: 0.4083\n",
            "\n",
            "Epoch:16/30    |Loss:2.973    |: 100%|██████████| 371/371 [06:49<00:00,  1.10s/it]\n",
            "Validating:    |: 100%|██████████| 50/50 [01:41<00:00,  2.03s/it]\n",
            "[2023-12-31 16:31]  Epoch16 mIoU: 0.4135    | best mIoU so far: 0.4083\n",
            "\n",
            "Epoch:17/30    |Loss:3.338    |: 100%|██████████| 371/371 [06:43<00:00,  1.09s/it]\n",
            "Validating:    |: 100%|██████████| 50/50 [01:42<00:00,  2.05s/it]\n",
            "[2023-12-31 16:39]  Epoch17 mIoU: 0.4320    | best mIoU so far: 0.4135\n",
            "\n",
            "Epoch:18/30    |Loss:4.489    |: 100%|██████████| 371/371 [06:44<00:00,  1.09s/it]\n",
            "Validating:    |: 100%|██████████| 50/50 [01:41<00:00,  2.04s/it]\n",
            "[2023-12-31 16:48]  Epoch18 mIoU: 0.4246    | best mIoU so far: 0.4320\n",
            "\n",
            "Epoch:19/30    |Loss:3.656    |: 100%|██████████| 371/371 [06:49<00:00,  1.10s/it]\n",
            "Validating:    |: 100%|██████████| 50/50 [01:41<00:00,  2.03s/it]\n",
            "[2023-12-31 16:56]  Epoch19 mIoU: 0.4410    | best mIoU so far: 0.4320\n",
            "\n",
            "Epoch:20/30    |Loss:3.172    |: 100%|██████████| 371/371 [06:45<00:00,  1.09s/it]\n",
            "Validating:    |: 100%|██████████| 50/50 [01:41<00:00,  2.02s/it]\n",
            "[2023-12-31 17:05]  Epoch20 mIoU: 0.4478    | best mIoU so far: 0.4410\n",
            "\n",
            "Epoch:21/30    |Loss:3.146    |: 100%|██████████| 371/371 [06:49<00:00,  1.10s/it]\n",
            "Validating:    |: 100%|██████████| 50/50 [01:41<00:00,  2.04s/it]\n",
            "[2023-12-31 17:13]  Epoch21 mIoU: 0.4471    | best mIoU so far: 0.4478\n",
            "\n",
            "Epoch:22/30    |Loss:2.432    |: 100%|██████████| 371/371 [06:45<00:00,  1.09s/it]\n",
            "Validating:    |: 100%|██████████| 50/50 [01:44<00:00,  2.09s/it]\n",
            "[2023-12-31 17:22]  Epoch22 mIoU: 0.4567    | best mIoU so far: 0.4478\n",
            "\n",
            "Epoch:23/30    |Loss:2.695    |: 100%|██████████| 371/371 [06:45<00:00,  1.09s/it]\n",
            "Validating:    |: 100%|██████████| 50/50 [01:41<00:00,  2.03s/it]\n",
            "[2023-12-31 17:30]  Epoch23 mIoU: 0.4597    | best mIoU so far: 0.4567\n",
            "\n",
            "Epoch:24/30    |Loss:3.352    |: 100%|██████████| 371/371 [06:49<00:00,  1.10s/it]\n",
            "Validating:    |: 100%|██████████| 50/50 [01:40<00:00,  2.01s/it]\n",
            "[2023-12-31 17:39]  Epoch24 mIoU: 0.4770    | best mIoU so far: 0.4597\n",
            "\n",
            "Epoch:25/30    |Loss:2.803    |: 100%|██████████| 371/371 [06:48<00:00,  1.10s/it]\n",
            "Validating:    |: 100%|██████████| 50/50 [01:41<00:00,  2.03s/it]\n",
            "[2023-12-31 17:47]  Epoch25 mIoU: 0.4807    | best mIoU so far: 0.4770\n",
            "\n",
            "Epoch:26/30    |Loss:2.559    |: 100%|██████████| 371/371 [06:46<00:00,  1.09s/it]\n",
            "Validating:    |: 100%|██████████| 50/50 [01:40<00:00,  2.00s/it]\n",
            "[2023-12-31 17:56]  Epoch26 mIoU: 0.4811    | best mIoU so far: 0.4807\n",
            "\n",
            "Epoch:27/30    |Loss:2.629    |: 100%|██████████| 371/371 [06:43<00:00,  1.09s/it]\n",
            "Validating:    |: 100%|██████████| 50/50 [01:44<00:00,  2.08s/it]\n",
            "[2023-12-31 18:04]  Epoch27 mIoU: 0.4783    | best mIoU so far: 0.4811\n",
            "\n",
            "Epoch:28/30    |Loss:3.678    |: 100%|██████████| 371/371 [06:44<00:00,  1.09s/it]\n",
            "Validating:    |: 100%|██████████| 50/50 [01:42<00:00,  2.05s/it]\n",
            "[2023-12-31 18:13]  Epoch28 mIoU: 0.4813    | best mIoU so far: 0.4811\n",
            "\n",
            "Epoch:29/30    |Loss:2.205    |: 100%|██████████| 371/371 [06:50<00:00,  1.11s/it]\n",
            "Validating:    |: 100%|██████████| 50/50 [01:42<00:00,  2.04s/it]\n",
            "[2023-12-31 18:21]  Epoch29 mIoU: 0.4811    | best mIoU so far: 0.4813\n",
            "\n",
            "[2023-12-31 18:21] \n",
            "Train 30 epochs finished!\n",
            "\n",
            "[2023-12-31 18:21] ##################################################\n",
            "Validation for the best checkpoint...\n",
            "Validating:    |: 100%|██████████| 50/50 [01:39<00:00,  1.98s/it]\n",
            "[2023-12-31 18:23] \n",
            "\n",
            "Train 30 epochs finished.\n",
            "\n",
            "Best mIoU is: 0.4813\n",
            "\n",
            "[2023-12-31 18:23] Best validation score is 0.48132187128067017.\n",
            "\n"
          ]
        }
      ]
    },
    {
      "cell_type": "code",
      "source": [
        "from google.colab import files\n",
        "files.download('save/best.pth')\n",
        "files.download('save/seg_trainer.log')"
      ],
      "metadata": {
        "id": "GCoY-P-UlCVL"
      },
      "execution_count": null,
      "outputs": []
    }
  ]
}