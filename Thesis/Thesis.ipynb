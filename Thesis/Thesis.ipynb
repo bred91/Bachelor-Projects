{
  "cells": [
    {
      "cell_type": "code",
      "execution_count": null,
      "metadata": {
        "id": "jmP1QPHKkC29"
      },
      "outputs": [],
      "source": [
        "import pandas as pd\n",
        "df = pd.read_csv('https://archive.ics.uci.edu/ml/'\n",
        "                 'machine-learning-databases'\n",
        "                 '/breast-cancer-wisconsin/wdbc.data', header=None)\n",
        "\n",
        "# df = pd.read_csv('wdbc.data', header=None)\n",
        "\n",
        "df.head()"
      ]
    },
    {
      "cell_type": "code",
      "execution_count": null,
      "metadata": {
        "colab": {
          "base_uri": "https://localhost:8080/"
        },
        "id": "FgCqPJ6rkFkM",
        "outputId": "545cd10e-f990-4b1b-ed65-fc54dac8f21d"
      },
      "outputs": [
        {
          "data": {
            "text/plain": [
              "(569, 32)"
            ]
          },
          "execution_count": 2,
          "metadata": {
            "tags": []
          },
          "output_type": "execute_result"
        }
      ],
      "source": [
        "df.shape"
      ]
    },
    {
      "cell_type": "code",
      "execution_count": null,
      "metadata": {
        "colab": {
          "base_uri": "https://localhost:8080/"
        },
        "id": "zCgdZb6ghRcs",
        "outputId": "3394ae3b-a545-43d1-d830-f23fbedce411"
      },
      "outputs": [
        {
          "name": "stdout",
          "output_type": "stream",
          "text": [
            "Test Accuracy: 0.965\n"
          ]
        }
      ],
      "source": [
        "import sklearn\n",
        "import time\n",
        "from sklearn.preprocessing import LabelEncoder\n",
        "from sklearn.preprocessing import StandardScaler\n",
        "from sklearn.decomposition import PCA, KernelPCA\n",
        "from sklearn.pipeline import make_pipeline\n",
        "from sklearn.linear_model import LogisticRegression\n",
        "from sklearn.neighbors import KNeighborsClassifier\n",
        "from sklearn.svm import SVC\n",
        "from sklearn.naive_bayes import GaussianNB, BernoulliNB, CategoricalNB\n",
        "from sklearn.tree import DecisionTreeClassifier\n",
        "from sklearn.ensemble import RandomForestClassifier\n",
        "from sklearn.linear_model import SGDClassifier\n",
        "from sklearn.neural_network import MLPClassifier, MLPRegressor\n",
        "\n",
        "v = [2,4,5,8,9,22,23,24,25,27,28,29]  #2:\n",
        "X = df.loc[:, 2:].values\n",
        "y = df.loc[:, 1].values\n",
        "le = LabelEncoder()\n",
        "y = le.fit_transform(y)\n",
        "le.classes_\n",
        "\n",
        "cod = le.transform(['M', 'B'])\n",
        "\n",
        "\n",
        "from sklearn.model_selection import train_test_split\n",
        "X_train, X_test, y_train, y_test = train_test_split(X, y,test_size=0.2,stratify=y, random_state=1)\n",
        "\n",
        "# ## Combino trasformatore ed estimatore in una pipeline\n",
        "\n",
        "pipe_lr = make_pipeline(StandardScaler(),\n",
        "                        #KernelPCA(n_components=2,kernel='cosine'),\n",
        "                        #PCA(n_components=20),\n",
        "                        #LogisticRegression(random_state=1, solver='lbfgs'))                        # 1\n",
        "                        KNeighborsClassifier(n_neighbors = 5, metric = 'minkowski', p = 2))        # 2\n",
        "                        #SVC(kernel = 'linear', random_state = 0))                                  # 3\n",
        "                        #SVC(kernel = 'rbf', random_state = 0))                                     # 4\n",
        "                        #GaussianNB())                                                              # 5\n",
        "                        #BernoulliNB())\n",
        "                        #DecisionTreeClassifier(criterion = 'entropy', random_state = 0))           # 6\n",
        "                        #RandomForestClassifier(n_estimators = 10, criterion = 'entropy', random_state = 0))\n",
        "                        #SGDClassifier())\n",
        "                        #MLPClassifier(solver='adam', activation = \"relu\",  alpha=1e-15,hidden_layer_sizes=(500,500,500), random_state=1, max_iter=1000))\n",
        "                        #LogisticRegression(multi_class = 'multinomial', solver = 'lbfgs'))\n",
        "\n",
        "\n",
        "\n",
        "\n",
        "\n",
        "pipe_lr.fit(X_train, y_train)\n",
        "y_pred = pipe_lr.predict(X_test)\n",
        "print('Test Accuracy: %.3f' % pipe_lr.score(X_test, y_test))"
      ]
    },
    {
      "cell_type": "code",
      "execution_count": null,
      "metadata": {
        "colab": {
          "base_uri": "https://localhost:8080/",
          "height": 298
        },
        "id": "uayQTC7zbmNR",
        "outputId": "45de2046-7056-4412-9207-6a8ae6959f4c"
      },
      "outputs": [
        {
          "data": {
            "text/plain": [
              "<sklearn.metrics._plot.confusion_matrix.ConfusionMatrixDisplay at 0x7f42bdc349d0>"
            ]
          },
          "execution_count": 4,
          "metadata": {
            "tags": []
          },
          "output_type": "execute_result"
        },
        {
          "data": {
            "image/png": "[encoded data removed]",
            "text/plain": [
              "<Figure size 432x288 with 2 Axes>"
            ]
          },
          "metadata": {
            "needs_background": "light",
            "tags": []
          },
          "output_type": "display_data"
        }
      ],
      "source": [
        "from sklearn.metrics import confusion_matrix\n",
        "from sklearn.metrics import ConfusionMatrixDisplay\n",
        "import matplotlib.pyplot as plt\n",
        "cm = confusion_matrix(y_test, y_pred)\n",
        "cm_display = ConfusionMatrixDisplay(cm, le.inverse_transform(cod))\n",
        "cm_display.plot(cmap=plt.cm.Greys,values_format='g')\n"
      ]
    },
    {
      "cell_type": "code",
      "execution_count": null,
      "metadata": {
        "colab": {
          "base_uri": "https://localhost:8080/"
        },
        "id": "UwYEpa9ibO48",
        "outputId": "1008a12e-931f-4abe-8b80-4fed593c89ce"
      },
      "outputs": [
        {
          "name": "stdout",
          "output_type": "stream",
          "text": [
            "CV accuracy scores: [0.91304348 1.         0.95652174 0.93478261 0.95652174 0.95555556\n",
            " 1.         0.97777778 1.         1.        ]\n",
            "CV accuracy: 0.969 +/- 0.030\n"
          ]
        }
      ],
      "source": [
        "# # Using k-fold cross validation to assess model performance\n",
        "\n",
        "\n",
        "# ## K-fold cross-validation\n",
        "\n",
        "\n",
        "from sklearn.model_selection import StratifiedKFold\n",
        "from sklearn.model_selection import cross_val_score\n",
        "\n",
        "import numpy as np\n",
        "\n",
        "\n",
        "scores = cross_val_score(estimator=pipe_lr,\n",
        "                         X=X_train,\n",
        "                         y=y_train,\n",
        "                         cv=10,\n",
        "                         n_jobs=1)\n",
        "print('CV accuracy scores: %s' % scores)\n",
        "print('CV accuracy: %.3f +/- %.3f' % (np.mean(scores), np.std(scores)))"
      ]
    },
    {
      "cell_type": "code",
      "execution_count": null,
      "metadata": {
        "id": "lFkqfB9WK1ji"
      },
      "outputs": [],
      "source": [
        "import matplotlib.pyplot as plt\n",
        "from sklearn.decomposition import PCA, KernelPCA\n",
        "plt.figure()\n",
        "colors = ['red', 'c']\n",
        "lw = 2\n",
        "\n",
        "pca_t1 = KernelPCA(n_components=2,kernel='cosine')\n",
        "X_r = pca_t1.fit(X).transform(X)\n",
        "for color, i, cod in zip(colors, [0, 1 ], ['M', 'B'] ):\n",
        "    plt.scatter(X_r[y == i, 0], X_r[y == i, 1], s=15, color=color, alpha=.8, lw=lw,\n",
        "                label=cod)\n",
        "plt.legend(loc='best', shadow=False, scatterpoints=1)\n",
        "plt.title('KPCA')\n",
        "\n",
        "plt.figure(dpi=1200)\n",
        "pca_t2 = PCA(n_components=2)\n",
        "X_r2 = pca_t2.fit(X).transform(X)\n",
        "for color, i, cod in zip(colors, [0, 1 ], ['M', 'B'] ):\n",
        "    plt.scatter(X_r2[y == i, 0], X_r2[y == i, 1], s=15, color=color, alpha=.8, lw=lw,\n",
        "                label=cod)\n",
        "plt.legend(loc='best', shadow=False, scatterpoints=1)\n",
        "plt.title('PCA')"
      ]
    },
    {
      "cell_type": "code",
      "execution_count": null,
      "metadata": {
        "id": "zuIWiDn09_SQ"
      },
      "outputs": [],
      "source": [
        "from sklearn.metrics import accuracy_score\n",
        "accuracy_all = []\n",
        "cvs_all = []\n",
        "cross_all = []\n",
        "time_all = []\n",
        "var = []\n",
        "cm_all = []"
      ]
    },
    {
      "cell_type": "markdown",
      "metadata": {
        "id": "VxkVqgpI_WXm"
      },
      "source": [
        "NEAREST NEIGHBORS"
      ]
    },
    {
      "cell_type": "code",
      "execution_count": null,
      "metadata": {
        "colab": {
          "base_uri": "https://localhost:8080/"
        },
        "id": "XeJAVNGi_V6w",
        "outputId": "63d0c380-7e10-446a-eb10-bdd7fdcdfcae"
      },
      "outputs": [
        {
          "name": "stdout",
          "output_type": "stream",
          "text": [
            "Accuratezza: 96.49%\n",
            "Cross validation score: 96.94% (+/- 2.95%)\n",
            "Tempo di Esecuzione: 0.014482 seconds \n",
            "\n"
          ]
        }
      ],
      "source": [
        "pipe_lr = make_pipeline(StandardScaler(),KNeighborsClassifier(n_neighbors = 5, metric = 'minkowski', p = 2))\n",
        "\n",
        "\n",
        "\n",
        "start = time.time()\n",
        "\n",
        "pipe_lr.fit(X_train, y_train)\n",
        "y_pred = pipe_lr.predict(X_test)\n",
        "\n",
        "end = time.time()\n",
        "\n",
        "\n",
        "scores = cross_val_score(estimator=pipe_lr,\n",
        "                         X=X_train,\n",
        "                         y=y_train,\n",
        "                         cv=10,\n",
        "                         n_jobs=1)\n",
        "\n",
        "\n",
        "accuracy_all.append(100*accuracy_score(y_pred, y_test))\n",
        "var1 = 100*np.mean(scores)\n",
        "var2 = 100*np.std(scores)\n",
        "var3 = \" +/- \"\n",
        "var = [var1 , var3 , var2]\n",
        "cross_all.append(var)\n",
        "time_all.append(end-start)\n",
        "\n",
        "cm = confusion_matrix(y_test, y_pred)\n",
        "cm_all.append(cm)\n",
        "\n",
        "print(\"Accuratezza: {0:.2%}\".format(accuracy_score(y_pred, y_test)))\n",
        "print(\"Cross validation score: {0:.2%} (+/- {1:.2%})\".format(np.mean(scores), np.std(scores)))\n",
        "print(\"Tempo di Esecuzione: %s seconds \\n\" % \"{0:.5}\".format(end-start))\n"
      ]
    },
    {
      "cell_type": "markdown",
      "metadata": {
        "id": "okvHXex3AIYv"
      },
      "source": [
        "NAYVE BAYES Gaussian"
      ]
    },
    {
      "cell_type": "code",
      "execution_count": null,
      "metadata": {
        "colab": {
          "base_uri": "https://localhost:8080/"
        },
        "id": "x1UltCeP_1H8",
        "outputId": "f2ad870d-e1ab-4dfe-e505-3b6033fa00cf"
      },
      "outputs": [
        {
          "name": "stdout",
          "output_type": "stream",
          "text": [
            "Accuratezza: 95.61%\n",
            "Cross validation score: 92.77% (+/- 3.50%)\n",
            "Tempo di Esecuzione: 0.0039642 seconds \n",
            "\n"
          ]
        }
      ],
      "source": [
        "pipe_lr = make_pipeline(StandardScaler(),GaussianNB())\n",
        "\n",
        "\n",
        "\n",
        "start = time.time()\n",
        "\n",
        "pipe_lr.fit(X_train, y_train)\n",
        "y_pred = pipe_lr.predict(X_test)\n",
        "\n",
        "end = time.time()\n",
        "\n",
        "\n",
        "scores = cross_val_score(estimator=pipe_lr,\n",
        "                         X=X_train,\n",
        "                         y=y_train,\n",
        "                         cv=10,\n",
        "                         n_jobs=1)\n",
        "\n",
        "\n",
        "accuracy_all.append(100*accuracy_score(y_pred, y_test))\n",
        "var1 = 100*np.mean(scores)\n",
        "var2 = 100*np.std(scores)\n",
        "var3 = \" +/- \"\n",
        "var = [var1 , var3 , var2]\n",
        "cross_all.append(var)\n",
        "time_all.append(end-start)\n",
        "\n",
        "cm = confusion_matrix(y_test, y_pred)\n",
        "cm_all.append(cm)\n",
        "\n",
        "print(\"Accuratezza: {0:.2%}\".format(accuracy_score(y_pred, y_test)))\n",
        "print(\"Cross validation score: {0:.2%} (+/- {1:.2%})\".format(np.mean(scores), np.std(scores)))\n",
        "print(\"Tempo di Esecuzione: %s seconds \\n\" % \"{0:.5}\".format(end-start))"
      ]
    },
    {
      "cell_type": "markdown",
      "metadata": {
        "id": "igyMI70sAWyb"
      },
      "source": [
        "NAYVE BAYES Bernoulli"
      ]
    },
    {
      "cell_type": "code",
      "execution_count": null,
      "metadata": {
        "colab": {
          "base_uri": "https://localhost:8080/"
        },
        "id": "HUbcsz2KAh0Z",
        "outputId": "293fe6a3-d9c7-4037-f816-1a6b437b9fe0"
      },
      "outputs": [
        {
          "name": "stdout",
          "output_type": "stream",
          "text": [
            "Accuratezza: 94.74%\n",
            "Cross validation score: 93.41% (+/- 4.59%)\n",
            "Tempo di Esecuzione: 0.0053954 seconds \n",
            "\n"
          ]
        }
      ],
      "source": [
        "pipe_lr = make_pipeline(StandardScaler(),BernoulliNB())\n",
        "\n",
        "\n",
        "\n",
        "start = time.time()\n",
        "\n",
        "pipe_lr.fit(X_train, y_train)\n",
        "y_pred = pipe_lr.predict(X_test)\n",
        "\n",
        "end = time.time()\n",
        "\n",
        "\n",
        "scores = cross_val_score(estimator=pipe_lr,\n",
        "                         X=X_train,\n",
        "                         y=y_train,\n",
        "                         cv=10,\n",
        "                         n_jobs=1)\n",
        "\n",
        "accuracy_all.append(100*accuracy_score(y_pred, y_test))\n",
        "var1 = 100*np.mean(scores)\n",
        "var2 = 100*np.std(scores)\n",
        "var3 = \" +/- \"\n",
        "var = [var1 , var3 , var2]\n",
        "cross_all.append(var)\n",
        "time_all.append(end-start)\n",
        "\n",
        "cm = confusion_matrix(y_test, y_pred)\n",
        "cm_all.append(cm)\n",
        "\n",
        "print(\"Accuratezza: {0:.2%}\".format(accuracy_score(y_pred, y_test)))\n",
        "print(\"Cross validation score: {0:.2%} (+/- {1:.2%})\".format(np.mean(scores), np.std(scores)))\n",
        "print(\"Tempo di Esecuzione: %s seconds \\n\" % \"{0:.5}\".format(end-start))"
      ]
    },
    {
      "cell_type": "markdown",
      "metadata": {
        "id": "dwFvfuba_lzn"
      },
      "source": [
        "SVM Linear"
      ]
    },
    {
      "cell_type": "code",
      "execution_count": null,
      "metadata": {
        "colab": {
          "base_uri": "https://localhost:8080/"
        },
        "id": "0O2ae8p2_xcR",
        "outputId": "4755b8d7-51b1-44fe-8bca-03092d3ed09a"
      },
      "outputs": [
        {
          "name": "stdout",
          "output_type": "stream",
          "text": [
            "Accuratezza: 96.49%\n",
            "Cross validation score: 97.59% (+/- 2.06%)\n",
            "Tempo di Esecuzione: 0.0086131 seconds \n",
            "\n"
          ]
        }
      ],
      "source": [
        "pipe_lr = make_pipeline(StandardScaler(),SVC(kernel = 'linear', random_state = 0))\n",
        "\n",
        "\n",
        "\n",
        "start = time.time()\n",
        "\n",
        "pipe_lr.fit(X_train, y_train)\n",
        "y_pred = pipe_lr.predict(X_test)\n",
        "\n",
        "end = time.time()\n",
        "\n",
        "\n",
        "scores = cross_val_score(estimator=pipe_lr,\n",
        "                         X=X_train,\n",
        "                         y=y_train,\n",
        "                         cv=10,\n",
        "                         n_jobs=1)\n",
        "\n",
        "\n",
        "accuracy_all.append(100*accuracy_score(y_pred, y_test))\n",
        "var1 = 100*np.mean(scores)\n",
        "var2 = 100*np.std(scores)\n",
        "var3 = \" +/- \"\n",
        "var = [var1 , var3 , var2]\n",
        "cross_all.append(var)\n",
        "time_all.append(end-start)\n",
        "\n",
        "cm = confusion_matrix(y_test, y_pred)\n",
        "cm_all.append(cm)\n",
        "\n",
        "print(\"Accuratezza: {0:.2%}\".format(accuracy_score(y_pred, y_test)))\n",
        "print(\"Cross validation score: {0:.2%} (+/- {1:.2%})\".format(np.mean(scores), np.std(scores)))\n",
        "print(\"Tempo di Esecuzione: %s seconds \\n\" % \"{0:.5}\".format(end-start))"
      ]
    },
    {
      "cell_type": "markdown",
      "metadata": {
        "id": "z9taE5Lh_9mp"
      },
      "source": [
        "SVM RBF"
      ]
    },
    {
      "cell_type": "code",
      "execution_count": null,
      "metadata": {
        "colab": {
          "base_uri": "https://localhost:8080/"
        },
        "id": "JjzBEVWF_0Q0",
        "outputId": "f005e17c-db7a-4183-f3f7-76f67cda5e0c"
      },
      "outputs": [
        {
          "name": "stdout",
          "output_type": "stream",
          "text": [
            "Accuratezza: 97.37%\n",
            "Cross validation score: 97.80% (+/- 2.41%)\n",
            "Tempo di Esecuzione: 0.0076249 seconds \n",
            "\n"
          ]
        }
      ],
      "source": [
        "pipe_lr = make_pipeline(StandardScaler(),SVC(kernel = 'rbf', random_state = 0))\n",
        "\n",
        "\n",
        "\n",
        "start = time.time()\n",
        "\n",
        "pipe_lr.fit(X_train, y_train)\n",
        "y_pred = pipe_lr.predict(X_test)\n",
        "\n",
        "end = time.time()\n",
        "\n",
        "\n",
        "scores = cross_val_score(estimator=pipe_lr,\n",
        "                         X=X_train,\n",
        "                         y=y_train,\n",
        "                         cv=10,\n",
        "                         n_jobs=1)\n",
        "\n",
        "\n",
        "accuracy_all.append(100*accuracy_score(y_pred, y_test))\n",
        "var1 = 100*np.mean(scores)\n",
        "var2 = 100*np.std(scores)\n",
        "var3 = \" +/- \"\n",
        "var = [var1 , var3 , var2]\n",
        "cross_all.append(var)\n",
        "time_all.append(end-start)\n",
        "\n",
        "cm = confusion_matrix(y_test, y_pred)\n",
        "cm_all.append(cm)\n",
        "\n",
        "print(\"Accuratezza: {0:.2%}\".format(accuracy_score(y_pred, y_test)))\n",
        "print(\"Cross validation score: {0:.2%} (+/- {1:.2%})\".format(np.mean(scores), np.std(scores)))\n",
        "print(\"Tempo di Esecuzione: %s seconds \\n\" % \"{0:.5}\".format(end-start))"
      ]
    },
    {
      "cell_type": "markdown",
      "metadata": {
        "id": "VKgq9B1GAma0"
      },
      "source": [
        "DECISION TREE"
      ]
    },
    {
      "cell_type": "code",
      "execution_count": null,
      "metadata": {
        "colab": {
          "base_uri": "https://localhost:8080/"
        },
        "id": "6V9z-3ZvAo90",
        "outputId": "11ee37a4-d3c1-4779-9df3-020936c02c83"
      },
      "outputs": [
        {
          "name": "stdout",
          "output_type": "stream",
          "text": [
            "Accuratezza: 92.98%\n",
            "Cross validation score: 94.08% (+/- 3.54%)\n",
            "Tempo di Esecuzione: 0.011768 seconds \n",
            "\n"
          ]
        }
      ],
      "source": [
        "pipe_lr = make_pipeline(StandardScaler(),DecisionTreeClassifier(criterion = 'entropy', random_state = 0))\n",
        "\n",
        "\n",
        "\n",
        "start = time.time()\n",
        "\n",
        "pipe_lr.fit(X_train, y_train)\n",
        "y_pred = pipe_lr.predict(X_test)\n",
        "\n",
        "end = time.time()\n",
        "\n",
        "\n",
        "scores = cross_val_score(estimator=pipe_lr,\n",
        "                         X=X_train,\n",
        "                         y=y_train,\n",
        "                         cv=10,\n",
        "                         n_jobs=1)\n",
        "\n",
        "accuracy_all.append(100*accuracy_score(y_pred, y_test))\n",
        "var1 = 100*np.mean(scores)\n",
        "var2 = 100*np.std(scores)\n",
        "var3 = \" +/- \"\n",
        "var = [var1 , var3 , var2]\n",
        "cross_all.append(var)\n",
        "time_all.append(end-start)\n",
        "\n",
        "cm = confusion_matrix(y_test, y_pred)\n",
        "cm_all.append(cm)\n",
        "\n",
        "print(\"Accuratezza: {0:.2%}\".format(accuracy_score(y_pred, y_test)))\n",
        "print(\"Cross validation score: {0:.2%} (+/- {1:.2%})\".format(np.mean(scores), np.std(scores)))\n",
        "print(\"Tempo di Esecuzione: %s seconds \\n\" % \"{0:.5}\".format(end-start))\n",
        "\n"
      ]
    },
    {
      "cell_type": "markdown",
      "metadata": {
        "id": "hOAYhB0CAqzt"
      },
      "source": [
        "RANDOM FOREST"
      ]
    },
    {
      "cell_type": "code",
      "execution_count": null,
      "metadata": {
        "colab": {
          "base_uri": "https://localhost:8080/"
        },
        "id": "U5QhA0ZjAqY3",
        "outputId": "25c8b62d-8aaa-4481-e4a2-4e0ee6d06e86"
      },
      "outputs": [
        {
          "name": "stdout",
          "output_type": "stream",
          "text": [
            "Accuratezza: 94.74%\n",
            "Cross validation score: 96.48% (+/- 1.76%)\n",
            "Tempo di Esecuzione: 0.27159 seconds \n",
            "\n"
          ]
        }
      ],
      "source": [
        "pipe_lr = make_pipeline(StandardScaler(),RandomForestClassifier(n_estimators = 100, criterion = 'entropy', random_state = 0))\n",
        "\n",
        "\n",
        "\n",
        "start = time.time()\n",
        "\n",
        "pipe_lr.fit(X_train, y_train)\n",
        "y_pred = pipe_lr.predict(X_test)\n",
        "\n",
        "end = time.time()\n",
        "\n",
        "\n",
        "scores = cross_val_score(estimator=pipe_lr,\n",
        "                         X=X_train,\n",
        "                         y=y_train,\n",
        "                         cv=10,\n",
        "                         n_jobs=1)\n",
        "\n",
        "\n",
        "accuracy_all.append(100*accuracy_score(y_pred, y_test))\n",
        "var1 = 100*np.mean(scores)\n",
        "var2 = 100*np.std(scores)\n",
        "var3 = \" +/- \"\n",
        "var = [var1 , var3 , var2]\n",
        "cross_all.append(var)\n",
        "time_all.append(end-start)\n",
        "\n",
        "cm = confusion_matrix(y_test, y_pred)\n",
        "cm_all.append(cm)\n",
        "\n",
        "print(\"Accuratezza: {0:.2%}\".format(accuracy_score(y_pred, y_test)))\n",
        "print(\"Cross validation score: {0:.2%} (+/- {1:.2%})\".format(np.mean(scores), np.std(scores)))\n",
        "print(\"Tempo di Esecuzione: %s seconds \\n\" % \"{0:.5}\".format(end-start))"
      ]
    },
    {
      "cell_type": "markdown",
      "metadata": {
        "id": "VwvxmNZ48yvt"
      },
      "source": [
        "LOGISTIC REGRESSION"
      ]
    },
    {
      "cell_type": "code",
      "execution_count": null,
      "metadata": {
        "colab": {
          "base_uri": "https://localhost:8080/"
        },
        "id": "aCnNDZaajSYx",
        "outputId": "be456190-dd90-44f3-a183-fc2e5f1079cf"
      },
      "outputs": [
        {
          "name": "stdout",
          "output_type": "stream",
          "text": [
            "Accuratezza: 98.25%\n",
            "Cross validation score: 98.02% (+/- 2.06%)\n",
            "Tempo di Esecuzione: 0.016989 seconds \n",
            "\n"
          ]
        }
      ],
      "source": [
        "pipe_lr = make_pipeline(StandardScaler(),LogisticRegression(random_state=1, solver='lbfgs'))\n",
        "\n",
        "\n",
        "\n",
        "start = time.time()\n",
        "\n",
        "pipe_lr.fit(X_train, y_train)\n",
        "y_pred = pipe_lr.predict(X_test)\n",
        "\n",
        "end = time.time()\n",
        "\n",
        "\n",
        "scores = cross_val_score(estimator=pipe_lr,\n",
        "                         X=X_train,\n",
        "                         y=y_train,\n",
        "                         cv=10,\n",
        "                         n_jobs=1)\n",
        "\n",
        "\n",
        "accuracy_all.append(100*accuracy_score(y_pred, y_test))\n",
        "var1 = 100*np.mean(scores)\n",
        "var2 = 100*np.std(scores)\n",
        "var3 = \" +/- \"\n",
        "var = [var1 , var3 , var2]\n",
        "cross_all.append(var)\n",
        "time_all.append(end-start)\n",
        "\n",
        "cm = confusion_matrix(y_test, y_pred)\n",
        "cm_all.append(cm)\n",
        "\n",
        "print(\"Accuratezza: {0:.2%}\".format(accuracy_score(y_pred, y_test)))\n",
        "print(\"Cross validation score: {0:.2%} (+/- {1:.2%})\".format(np.mean(scores), np.std(scores)))\n",
        "print(\"Tempo di Esecuzione: %s seconds \\n\" % \"{0:.5}\".format(end-start))\n"
      ]
    },
    {
      "cell_type": "markdown",
      "metadata": {
        "id": "hvLtnVuyBObb"
      },
      "source": [
        "MLP"
      ]
    },
    {
      "cell_type": "code",
      "execution_count": null,
      "metadata": {
        "colab": {
          "base_uri": "https://localhost:8080/"
        },
        "id": "HChEtkfCBGgo",
        "outputId": "b9c4917a-7f62-4651-8d2c-d4b3dcc118a6"
      },
      "outputs": [
        {
          "name": "stdout",
          "output_type": "stream",
          "text": [
            "Accuratezza: 98.25%\n",
            "Cross validation score: 97.59% (+/- 1.52%)\n",
            "Tempo di Esecuzione: 30.405 seconds \n",
            "\n"
          ]
        }
      ],
      "source": [
        "pipe_lr = make_pipeline(StandardScaler(),MLPClassifier(solver='sgd', activation = \"relu\",  alpha=1e-5,\n",
        "                                                     hidden_layer_sizes=(500,500,500), random_state=1,\n",
        "                                                      max_iter=1000))\n",
        "\n",
        "\n",
        "                    # MLPClassifier(solver='sgd', activation = \"relu\",  alpha=1e-5,\n",
        "                                        #              hidden_layer_sizes=(500,500,500), random_state=1,\n",
        "                                         #             max_iter=1000))\n",
        "\n",
        "                   #     '''MLPClassifier(solver='adam', activation = \"relu\",  alpha=1e-5,\n",
        "                     #                                  hidden_layer_sizes=(500,500,500), random_state=1,\n",
        "                                    #  logistic                   learning_rate_init=.01, max_iter=1000))'''\n",
        "\n",
        "                       # max_iter=10000,alpha=1e-5,hidden_layer_sizes=(500,500,500),\n",
        "                        #                               learning_rate= 'adaptive',learning_rate_init=.01,\n",
        "                         #                              activation='logistic',solver='adam',random_state=42))\n",
        "\n",
        "\n",
        "start = time.time()\n",
        "\n",
        "pipe_lr.fit(X_train, y_train)\n",
        "y_pred = pipe_lr.predict(X_test)\n",
        "\n",
        "end = time.time()\n",
        "\n",
        "\n",
        "scores = cross_val_score(estimator=pipe_lr,\n",
        "                         X=X_train,\n",
        "                         y=y_train,\n",
        "                         cv=10,\n",
        "                         n_jobs=1)\n",
        "\n",
        "\n",
        "accuracy_all.append(100*accuracy_score(y_pred, y_test))\n",
        "var1 = 100*np.mean(scores)\n",
        "var2 = 100*np.std(scores)\n",
        "var3 = \" +/- \"\n",
        "var = [var1 , var3 , var2]\n",
        "cross_all.append(var)\n",
        "time_all.append(end-start)\n",
        "\n",
        "cm = confusion_matrix(y_test, y_pred)\n",
        "cm_all.append(cm)\n",
        "\n",
        "print(\"Accuratezza: {0:.2%}\".format(accuracy_score(y_pred, y_test)))\n",
        "print(\"Cross validation score: {0:.2%} (+/- {1:.2%})\".format(np.mean(scores), np.std(scores)))\n",
        "print(\"Tempo di Esecuzione: %s seconds \\n\" % \"{0:.5}\".format(end-start))"
      ]
    },
    {
      "cell_type": "markdown",
      "metadata": {
        "id": "ALYCVdy7A9em"
      },
      "source": [
        "SGD"
      ]
    },
    {
      "cell_type": "code",
      "execution_count": null,
      "metadata": {
        "id": "K5iEcKQLBBJG"
      },
      "outputs": [],
      "source": [
        "pipe_lr = make_pipeline(StandardScaler(),SGDClassifier())\n",
        "\n",
        "\n",
        "\n",
        "start = time.time()\n",
        "\n",
        "\n",
        "pipe_lr.fit(X_train, y_train)\n",
        "y_pred = pipe_lr.predict(X_test)\n",
        "\n",
        "end = time.time()\n",
        "\n",
        "\n",
        "scores = cross_val_score(estimator=pipe_lr,\n",
        "                         X=X_train,\n",
        "                         y=y_train,\n",
        "                         cv=10,\n",
        "                         n_jobs=1)\n",
        "\n",
        "\n",
        "accuracy_all.append(100*accuracy_score(y_pred, y_test))\n",
        "var1 = 100*np.mean(scores)\n",
        "var2 = 100*np.std(scores)\n",
        "var3 = \" +/- \"\n",
        "var = [var1 , var3 , var2]\n",
        "cross_all.append(var)\n",
        "time_all.append(end-start)\n",
        "\n",
        "print(\"Accuratezza: {0:.2%}\".format(accuracy_score(y_pred, y_test)))\n",
        "print(\"Cross validation score: {0:.2%} (+/- {1:.2%})\".format(np.mean(scores), np.std(scores)))\n",
        "print(\"Tempo di Esecuzione: %s seconds \\n\" % \"{0:.5}\".format(end-start))"
      ]
    },
    {
      "cell_type": "markdown",
      "metadata": {
        "id": "rZkGAMPwBP8k"
      },
      "source": [
        "Softmax Regression"
      ]
    },
    {
      "cell_type": "code",
      "execution_count": null,
      "metadata": {
        "id": "cADb8FAPBHkV"
      },
      "outputs": [],
      "source": [
        "pipe_lr = make_pipeline(StandardScaler(),LogisticRegression(multi_class = 'multinomial', solver = 'lbfgs'))\n",
        "\n",
        "\n",
        "\n",
        "start = time.time()\n",
        "\n",
        "pipe_lr.fit(X_train, y_train)\n",
        "y_pred = pipe_lr.predict(X_test)\n",
        "\n",
        "end = time.time()\n",
        "\n",
        "\n",
        "scores = cross_val_score(estimator=pipe_lr,\n",
        "                         X=X_train,\n",
        "                         y=y_train,\n",
        "                         cv=10,\n",
        "                         n_jobs=1)\n",
        "\n",
        "\n",
        "accuracy_all.append(100*accuracy_score(y_pred, y_test))\n",
        "var1 = 100*np.mean(scores)\n",
        "var2 = 100*np.std(scores)\n",
        "var3 = \" +/- \"\n",
        "var = [var1 , var3 , var2]\n",
        "cross_all.append(var)\n",
        "time_all.append(end-start)\n",
        "\n",
        "\n",
        "print(\"Accuratezza: {0:.2%}\".format(accuracy_score(y_pred, y_test)))\n",
        "print(\"Cross validation score: {0:.2%} (+/- {1:.2%})\".format(np.mean(scores), np.std(scores)))\n",
        "print(\"Tempo di Esecuzione: %s seconds \\n\" % \"{0:.5}\".format(end-start))"
      ]
    },
    {
      "cell_type": "code",
      "execution_count": null,
      "metadata": {
        "id": "sa1XXEh4DGft"
      },
      "outputs": [],
      "source": [
        "d = {'Accuratezza':accuracy_all,'Cross Validation Score':cross_all , 'Tempo di Esecuzione':time_all, 'Matrice di Confusione': cm_all}\n",
        "\n",
        "index = ['NEAREST NEIGHBORS', 'NAYVE BAYES Gaussian',\n",
        "         'NAYVE BAYES Bernoulli', 'SVM Linear', 'SVM rbf',\n",
        "         'DECISION TREE', 'RANDOM FOREST','LOGISTIC REGRESSION','MLP']\n",
        "\n",
        "         #  'SGD', ,'SOFTMAX REGRESSION'\n",
        "\n",
        "df = pd.DataFrame(d, index=index)"
      ]
    },
    {
      "cell_type": "code",
      "execution_count": null,
      "metadata": {
        "id": "8Q9VWP4EEL9L"
      },
      "outputs": [],
      "source": [
        "df"
      ]
    },
    {
      "cell_type": "code",
      "execution_count": null,
      "metadata": {
        "id": "eMu0_StLpzXR"
      },
      "outputs": [],
      "source": [
        "import seaborn as sns\n",
        "plt.figure(dpi=1200)\n",
        "sns.set_color_codes(\"muted\")\n",
        "sns.barplot(x='Accuratezza', y=index, data=df, color=\"b\")\n",
        "\n",
        "\n",
        "plt.xlabel('Accuracy %')\n",
        "plt.title('Classifier Accuracy')\n",
        "#plt.show()"
      ]
    },
    {
      "cell_type": "code",
      "execution_count": null,
      "metadata": {
        "id": "pKLgxFwtpmuM"
      },
      "outputs": [],
      "source": [
        "plt.savefig('filename.png', dpi=600)"
      ]
    },
    {
      "cell_type": "code",
      "execution_count": null,
      "metadata": {
        "id": "HKwnF25oWPQT"
      },
      "outputs": [],
      "source": [
        "\n",
        "cm_all"
      ]
    }
  ],
  "metadata": {
    "colab": {
      "provenance": []
    },
    "kernelspec": {
      "display_name": "Python 3",
      "name": "python3"
    },
    "language_info": {
      "name": "python"
    }
  },
  "nbformat": 4,
  "nbformat_minor": 0
}
